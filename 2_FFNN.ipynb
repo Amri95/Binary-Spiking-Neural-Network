{
 "cells": [
  {
   "cell_type": "markdown",
   "metadata": {},
   "source": [
    "--- Daniel Maidment---\n",
    "$\\renewcommand{\\vec}{\\mathbf}$\n",
    "$\\newcommand{\\x}{\\vec{x}}$\n",
    "$\\newcommand{\\X}{\\vec{X}}$\n",
    "$\\newcommand{\\s}{\\vec{s}}$\n",
    "$\\renewcommand{\\phi}{\\varphi}$\n",
    "$\\newcommand{\\R}{\\mathbb{R}}$\n",
    "$\\newcommand{\\y}{\\vec{y}}$\n",
    "$\\renewcommand{\\v}{\\vec{v}}$\n",
    "$\\newcommand{\\A}{\\vec{A}}$\n",
    "$\\newcommand{\\I}{\\vec{I}}$\n",
    "$\\newcommand{\\z}{\\vec{z}}$\n",
    "$\\newcommand{\\a}{\\vec{a}}$\n",
    "$\\newcommand{\\b}{\\vec{b}}$\n",
    "$\\newcommand{\\t}{\\vec{t}}$\n",
    "$\\newcommand{\\W}{\\vec{W}}$\n",
    "$\\newcommand{\\w}{\\;\\!}$\n",
    "$\\newcommand{\\l}{\\w\\left(l\\right)}$\n",
    "$\\newcommand{\\th}{\\text{th}}$\n",
    "$\\newcommand{\\(}{\\left (}$\n",
    "$\\newcommand{\\)}{\\right )}$"
   ]
  },
  {
   "cell_type": "markdown",
   "metadata": {},
   "source": [
    "# Feed-forward neural networks"
   ]
  },
  {
   "cell_type": "markdown",
   "metadata": {},
   "source": [
    "Feed-forward neural networks (FFNNs), deep feed-forward neural networks, or multilayer preceptrons (MLPs) are machine learning models that attempt to approximate some function; mapping inputs to outputs. \n",
    "The typical FFNN is structured such that each layer contains a series of inputs which are carried through weighted synapses \\cite{bishop_pattern_2006}. This can be represented analytically as the inner product of the input vector $\\a^{\\l}$ with the weight matrix $\\W^{\\l}$ such that $\\z^{\\w\\left(l+1\\right)} = \\W^{\\l}\\cdot{\\a^{\\l}}$; where the superscript $l$ indicates the layer of the network. Here $\\z^{\\l}$ is the summed output of the synapses for a given layer, after which $\\z^{\\l}$ is then passed through a non-linear activation function where $a^{\\l}_j = f\\left(z^{\\l}_j\\right)$ \\cite{goodfellow_deep_2016}. The input to the neural network is the vector $\\x=\\a^0$. The output vector $\\y$ is dependent on the classification technique."
   ]
  },
  {
   "cell_type": "markdown",
   "metadata": {
    "slideshow": {
     "slide_type": "slide"
    }
   },
   "source": [
    "![]( images/Diagrams/feed_forward_neural_net.png)\\label{fig:ffnn}\n",
    "##### A simple fully connected neural network"
   ]
  },
  {
   "cell_type": "markdown",
   "metadata": {},
   "source": [
    "## Activation functions"
   ]
  },
  {
   "cell_type": "markdown",
   "metadata": {},
   "source": [
    "The activation function serves the purpose of forcing the successive layers of the neural network to be linearly independent. There is also normally a normalising component to the activation functions in that large input values are saturated to some limiting value while small input values have an almost linear transfer characteristic. This can be seen in fig.~\\ref{fig:common_activation_functions}, where the sigmoid function saturates between 0 and 1, while the hyperbolic tangent function is asymptotic about 1 and -1. This is thought to mimic the behaviour of neurons where there is some maximum spiking rate, and some minimum spiking rate ***citation needed***."
   ]
  },
  {
   "cell_type": "markdown",
   "metadata": {},
   "source": [
    "Some common activation functions include the sigmoid function:\n",
    "\n",
    "\\begin{equation}\n",
    "        \\sigma({x}) =\\frac{1}{1+e^{-{x}}}.\n",
    "\\end{equation}\n",
    "or the hyperbolic tangent function:\n",
    "\\begin{equation}\n",
    "    f({x}) =\\tanh{({x})}.\n",
    "\\end{equation}\n",
    "or the rectified linear unit function (ReLU):\n",
    "\\begin{equation}\n",
    "    ReLU({x}) = \\left\\{\n",
    "            \\begin{array}{ll}\n",
    "                0 & \\quad {x} < 0 \\\\\n",
    "                {x} & \\quad {x} \\geq 0.\n",
    "            \\end{array}\n",
    "        \\right.\n",
    "\\end{equation}\n",
    "There are many varieties of activation function that satisfy different problems, but the choice of activation function is largely empirical."
   ]
  },
  {
   "cell_type": "markdown",
   "metadata": {},
   "source": [
    "<img src=\"images/common_activation_functions.png\" alt=\"Some common activation functions\"\n",
    "\ttitle=\"Some common activation functions.\" width=\"600\" height=\"400\" />\\label{fig:common_activation_functions}\n",
    "##### Some common activation functions."
   ]
  },
  {
   "cell_type": "markdown",
   "metadata": {},
   "source": [
    "The sigmoid function is an early attempt to model neurons, it is problematic however in that it is computationally very expensive; this is also true for function likes the hyperbolic tangent function***citation needed***. The ReLU function is relatively new and while simple appears to have few draw-backs in terms of learning, but it does however specifically improve computational performance as positive input values have a linear transfer function, and everything else is zero."
   ]
  },
  {
   "cell_type": "markdown",
   "metadata": {},
   "source": [
    "## Synaptic connections"
   ]
  },
  {
   "cell_type": "markdown",
   "metadata": {},
   "source": [
    "Synapses are very simplistically modeled as weights. In a brain the synaptic learning rule is approximated by what is called a Hebian learning rule, where the weight of the connection between neurons (representing the signal attenuation) is strengthened if neurons fire contemporaneously, and weakened if they fire atemporaneously. In reality the signal decay is complex, with the synapse being akin to dynamic repeaters or specialised neurons in and of themselves. Within feed-forward neural networks, a weight matrix $\\W^{\\l}$ is the transfer function from one neuron layer to the next, where each element $w_{i\\w j}^{\\l}$ is the linear dependence of neuron$_i^{\\w\\left(l+1\\right)}$ on neuron$_j^{\\l}$ and is often limited to be either an element of $[0,1]$ or $[-1, 1]$."
   ]
  },
  {
   "cell_type": "markdown",
   "metadata": {
    "slideshow": {
     "slide_type": "slide"
    }
   },
   "source": [
    "\\begin{equation}\n",
    "    \\z^{(1)} = \\W^{(0)}\\cdot{\\x}\n",
    "\\end{equation}\n",
    "\n",
    "\\begin{equation}\n",
    "    \\a^{(1)} = f\\left(\\z^{(1)}\\right)\n",
    "\\end{equation}\n",
    "\n",
    "\\begin{equation}\n",
    "    \\z^{(2)} = \\W^{(1)}\\cdot{\\a^{(1)}}\n",
    "\\end{equation}\n",
    "\n",
    "\\begin{equation}\n",
    "    \\a^{(2)} = f\\left(\\z^{(2)}\\right)\n",
    "\\end{equation}\n",
    "\n",
    "\\begin{equation}\n",
    "    \\y = \\W^{(2)}\\cdot{\\a^{(2)}}\n",
    "\\end{equation}"
   ]
  },
  {
   "cell_type": "code",
   "execution_count": 8,
   "metadata": {
    "slideshow": {
     "slide_type": "slide"
    }
   },
   "outputs": [
    {
     "data": {
      "image/png": "[encoded data removed]",
      "text/plain": [
       "<Figure size 432x216 with 1 Axes>"
      ]
     },
     "metadata": {
      "needs_background": "light"
     },
     "output_type": "display_data"
    }
   ],
   "source": [
    "import numpy as np\n",
    "import spyder_utilities as su\n",
    "import matplotlib.pyplot as plt\n",
    "x = np.linspace(-5, 5, 1000)\n",
    "fig, ax = plt.subplots(1, 1, figsize=(6, 3))\n",
    "ax = su.config_axis(ax, x_lim=(-5, 5), y_lim=(-1.5, 1.5), Y_0=1, mult_y=1 , Eng=False)\n",
    "ax.plot(x, 1/(1+np.e**(-x)), linewidth=2, label=\"Sigmoid function\")\n",
    "ax.plot(x, np.tanh(x), linestyle=':', linewidth=2, label=\"Hyperbolic tangent function\")\n",
    "ax.plot(x, np.maximum(0, x), linestyle='--', linewidth=2, label=\"ReLu function\")\n",
    "ax.set_xlabel(\"input to neuron\")\n",
    "ax.set_ylabel(\"output of neuron\")\n",
    "ax.legend()\n",
    "plt.show()\n",
    "su.save_fig(fig,\n",
    "            image_nm=\"common_activation_functions\",\n",
    "            paper_format=[\"pdf\", \"png\"], debug=False)"
   ]
  },
  {
   "cell_type": "markdown",
   "metadata": {},
   "source": [
    "## Complexity"
   ]
  },
  {
   "cell_type": "markdown",
   "metadata": {},
   "source": [
    "From a computational perspective, these operations are heavy with multiplications. The complexity of a square $\\left[n\\times n\\right]$ matrix multiplied by a $\\left[n\\times 1\\right]$ matrix is given by $O(n^2)$ \\cite{cormen_introduction_2009} (where a multiplication operation is assumed to have a complexity of $O(1)$), and each hidden layer has at least a matrix operation of this kind. The activation function's complexity is at least proportional to $O(\\log{n})$. Hence, for every layer of the network $l$ (except the input layer), there is at least a matrix multiplication and at least an activation function. If a given layer has 10 neurons, then the matrix operation has complexity of at least $O(100)$, while a layer of size 100 has complexity of at least $O(10, 000)$. "
   ]
  },
  {
   "cell_type": "raw",
   "metadata": {},
   "source": [
    "Given that a typical CPU can run as many floating point operations in parallel as there are cores, a multi-cored system can reduce the effective run time as a factor of the number of cores. For instance, the 8$^{th}$ generation Intel\\textregistered Core\\texttrademark i7 Processor \\cite{noauthor_intel_2018} has six cores. Six cores means a maximum of six multiplication operations for any given cycle which implies a reduced run-time by a factor of 6 at most. Use of all the cores would also leave the processor unavailable for other tasks. From this it can be seen that large ANNs can very quickly require large amounts of computational power; since any given forward pass of the NN requires each computation to be made again."
   ]
  },
  {
   "cell_type": "code",
   "execution_count": null,
   "metadata": {},
   "outputs": [],
   "source": []
  }
 ],
 "metadata": {
  "kernelspec": {
   "display_name": "Python 3",
   "language": "python",
   "name": "python3"
  },
  "language_info": {
   "codemirror_mode": {
    "name": "ipython",
    "version": 3
   },
   "file_extension": ".py",
   "mimetype": "text/x-python",
   "name": "python",
   "nbconvert_exporter": "python",
   "pygments_lexer": "ipython3",
   "version": "3.7.4"
  }
 },
 "nbformat": 4,
 "nbformat_minor": 4
}
