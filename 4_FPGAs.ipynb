{
 "cells": [
  {
   "cell_type": "markdown",
   "metadata": {},
   "source": [
    "# FPGAs"
   ]
  },
  {
   "cell_type": "markdown",
   "metadata": {},
   "source": [
    "FPGAs allow for hardware level implementation of computational structures. FPGAs are generally made up of configurable logic blocks (CLBs); whose connections are configurable. The LE elements frequently consist of one or more look-up tables (LUTs), storage elements, carry logic, and multiplexers. These components allow the CLBs to simulate various logical operations from simple Boolean logic, to addition, to multiplication. The logic elements are also networked  together by means of configurable buses in such away that logic elements across the length of the FPGA can be connected to carry out logical operations. These configurable elements allow for complex computational architectures to be implemented on the FPGA; from arithmetic logic units (ALUs) to digital signal processing (DSP) functions like digital filters and fast Fourier transforms (FFTs). Implementation of these architectures can serve any number of purposes, from rapid prototyping of computational architectures, to offloading necessary but repetitive computations from a microprocessor or CPU.\n",
    "\n",
    "The modularity of FPGAs CLBs, coupled with the configurable data bus system allows for repeated parallel structures. This lends itself well to implementing processors that are required to execute many similar operations in parallel rapidly, such as FFTs or digital filters. To that end FPGA manufacturers have been loading FPGAs with less configurable more dedicated hardware such as pre-optimised multiply-accumulators (MACs) known as DSP slices \\cite{frank_artificial_1995, wolff_parspike-parallel_1999, wang_enhanced_2017, govindu_analysis_2004}. DSP slices are in high-demand in these multiplication heavy computations. \n",
    "\n",
    "Given how well FPGAs seem to lend themselves to parallelism and modularity, it seems reasonable to assume that NNs could take advantage of this without the need for dedicated resources that could otherwise be used for other DSP applications."
   ]
  }
 ],
 "metadata": {
  "kernelspec": {
   "display_name": "Python 3",
   "language": "python",
   "name": "python3"
  },
  "language_info": {
   "codemirror_mode": {
    "name": "ipython",
    "version": 3
   },
   "file_extension": ".py",
   "mimetype": "text/x-python",
   "name": "python",
   "nbconvert_exporter": "python",
   "pygments_lexer": "ipython3",
   "version": "3.7.4"
  }
 },
 "nbformat": 4,
 "nbformat_minor": 4
}
